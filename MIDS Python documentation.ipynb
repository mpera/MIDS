{
 "cells": [
  {
   "cell_type": "markdown",
   "metadata": {},
   "source": [
    "### Python documentation for the MIDS program\n",
    "####Due November 20 2015 to Courtney"
   ]
  },
  {
   "cell_type": "markdown",
   "metadata": {},
   "source": [
    "What I want to do:\n",
    "- Import all data from actigraphs, azumio and fitbit\n",
    "- Make graphs to compare all for each user\n",
    "- With all data individually:\n",
    "    Average steps over a 7 day period\n",
    "- With actigraph data, get MVPA"
   ]
  },
  {
   "cell_type": "code",
   "execution_count": 110,
   "metadata": {
    "collapsed": true
   },
   "outputs": [],
   "source": [
    "import pandas as pd\n",
    "import numpy as np"
   ]
  },
  {
   "cell_type": "code",
   "execution_count": 132,
   "metadata": {
    "collapsed": false
   },
   "outputs": [],
   "source": [
    "accel = pandas.read_csv('/Users/megan/Desktop/Py project/Accel CSV data/User701_ActigraphMay.csv', skipinitialspace=True)"
   ]
  },
  {
   "cell_type": "code",
   "execution_count": 133,
   "metadata": {
    "collapsed": false
   },
   "outputs": [],
   "source": [
    "# Limiting dates to the days of the study\n",
    "date1 = np.array(accel.Date > \"5/16/2015\")\n",
    "date2 = np.array(accel.Date < \"5/25/2015\")\n",
    "wear_dates = np.logical_and(date1, date2)\n",
    "\n",
    "accel = accel[wear_dates]"
   ]
  },
  {
   "cell_type": "code",
   "execution_count": 134,
   "metadata": {
    "collapsed": false
   },
   "outputs": [],
   "source": [
    "# Grouping by study day and finding out total steps per day\n",
    "by_date = accel.groupby(\"Date\")\n",
    "daily_steps = by_date['Steps'].sum()"
   ]
  },
  {
   "cell_type": "code",
   "execution_count": 135,
   "metadata": {
    "collapsed": false
   },
   "outputs": [],
   "source": [
    "# Defining minutes of moderate and vigorous physical activity\n",
    "mvpa = np.array(accel.Axis1 > 1951)\n",
    "\n",
    "# Creating a dataframe with only minutes of mvpa included\n",
    "accel_mvpa = accel[mvpa]\n",
    "\n",
    "# Getting total minutes of MVPA for each day\n",
    "by_date_mvpa = accel_mvpa.groupby(\"Date\")\n",
    "daily_mvpa = by_date_mvpa['Axis1'].count()\n"
   ]
  },
  {
   "cell_type": "code",
   "execution_count": 136,
   "metadata": {
    "collapsed": false
   },
   "outputs": [],
   "source": [
    "# Creating a dataframe that includes daily steps and daily minutes of MVPA for this user\n",
    "daily_701 = pd.DataFrame({'User': 701, 'Steps': daily_steps, 'MVPA' : daily_mvpa}).reset_index()"
   ]
  },
  {
   "cell_type": "code",
   "execution_count": 137,
   "metadata": {
    "collapsed": false
   },
   "outputs": [
    {
     "data": {
      "text/html": [
       "<div>\n",
       "<table border=\"1\" class=\"dataframe\">\n",
       "  <thead>\n",
       "    <tr style=\"text-align: right;\">\n",
       "      <th></th>\n",
       "      <th>Date</th>\n",
       "      <th>MVPA</th>\n",
       "      <th>Steps</th>\n",
       "      <th>User</th>\n",
       "    </tr>\n",
       "  </thead>\n",
       "  <tbody>\n",
       "    <tr>\n",
       "      <th>0</th>\n",
       "      <td>5/17/2015</td>\n",
       "      <td>20</td>\n",
       "      <td>5851</td>\n",
       "      <td>701</td>\n",
       "    </tr>\n",
       "    <tr>\n",
       "      <th>1</th>\n",
       "      <td>5/18/2015</td>\n",
       "      <td>66</td>\n",
       "      <td>9656</td>\n",
       "      <td>701</td>\n",
       "    </tr>\n",
       "    <tr>\n",
       "      <th>2</th>\n",
       "      <td>5/19/2015</td>\n",
       "      <td>41</td>\n",
       "      <td>6649</td>\n",
       "      <td>701</td>\n",
       "    </tr>\n",
       "    <tr>\n",
       "      <th>3</th>\n",
       "      <td>5/20/2015</td>\n",
       "      <td>56</td>\n",
       "      <td>7936</td>\n",
       "      <td>701</td>\n",
       "    </tr>\n",
       "    <tr>\n",
       "      <th>4</th>\n",
       "      <td>5/21/2015</td>\n",
       "      <td>51</td>\n",
       "      <td>8030</td>\n",
       "      <td>701</td>\n",
       "    </tr>\n",
       "    <tr>\n",
       "      <th>5</th>\n",
       "      <td>5/22/2015</td>\n",
       "      <td>75</td>\n",
       "      <td>11172</td>\n",
       "      <td>701</td>\n",
       "    </tr>\n",
       "    <tr>\n",
       "      <th>6</th>\n",
       "      <td>5/23/2015</td>\n",
       "      <td>52</td>\n",
       "      <td>8046</td>\n",
       "      <td>701</td>\n",
       "    </tr>\n",
       "    <tr>\n",
       "      <th>7</th>\n",
       "      <td>5/24/2015</td>\n",
       "      <td>60</td>\n",
       "      <td>8624</td>\n",
       "      <td>701</td>\n",
       "    </tr>\n",
       "  </tbody>\n",
       "</table>\n",
       "</div>"
      ],
      "text/plain": [
       "        Date  MVPA  Steps  User\n",
       "0  5/17/2015    20   5851   701\n",
       "1  5/18/2015    66   9656   701\n",
       "2  5/19/2015    41   6649   701\n",
       "3  5/20/2015    56   7936   701\n",
       "4  5/21/2015    51   8030   701\n",
       "5  5/22/2015    75  11172   701\n",
       "6  5/23/2015    52   8046   701\n",
       "7  5/24/2015    60   8624   701"
      ]
     },
     "execution_count": 137,
     "metadata": {},
     "output_type": "execute_result"
    }
   ],
   "source": [
    "daily_701"
   ]
  },
  {
   "cell_type": "code",
   "execution_count": null,
   "metadata": {
    "collapsed": true
   },
   "outputs": [],
   "source": []
  }
 ],
 "metadata": {
  "kernelspec": {
   "display_name": "Python 3",
   "language": "python",
   "name": "python3"
  },
  "language_info": {
   "codemirror_mode": {
    "name": "ipython",
    "version": 3
   },
   "file_extension": ".py",
   "mimetype": "text/x-python",
   "name": "python",
   "nbconvert_exporter": "python",
   "pygments_lexer": "ipython3",
   "version": "3.4.3"
  }
 },
 "nbformat": 4,
 "nbformat_minor": 0
}

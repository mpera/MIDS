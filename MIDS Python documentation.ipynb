{
 "cells": [
  {
   "cell_type": "markdown",
   "metadata": {},
   "source": [
    "### Python documentation for the MIDS program\n",
    "####Due November 20 2015 to Courtney"
   ]
  },
  {
   "cell_type": "markdown",
   "metadata": {},
   "source": [
    "What I want to do:\n",
    "- Import all data from actigraphs, azumio and fitbit\n",
    "- Make graphs to compare all for each user\n",
    "- With all data individually:\n",
    "    Average steps over a 7 day period\n",
    "- With actigraph data, get MVPA"
   ]
  },
  {
   "cell_type": "code",
   "execution_count": 110,
   "metadata": {
    "collapsed": true
   },
   "outputs": [],
   "source": [
    "import pandas as pd\n",
    "import numpy as np"
   ]
  },
  {
   "cell_type": "code",
   "execution_count": 111,
   "metadata": {
    "collapsed": false
   },
   "outputs": [
    {
     "name": "stdout",
     "output_type": "stream",
     "text": [
      "            Date      Time  Axis1  Axis2  Axis3  Steps  Vector Magnitude\n",
      "0      5/15/2015   8:00:00      0      0      0      0              0.00\n",
      "1      5/15/2015   8:01:00      0      0      0      0              0.00\n",
      "2      5/15/2015   8:02:00      0      0      0      0              0.00\n",
      "3      5/15/2015   8:03:00      0      0      0      0              0.00\n",
      "4      5/15/2015   8:04:00      0      0      0      0              0.00\n",
      "5      5/15/2015   8:05:00      0      0      0      0              0.00\n",
      "6      5/15/2015   8:06:00      0      0      0      0              0.00\n",
      "7      5/15/2015   8:07:00      0      0      0      0              0.00\n",
      "8      5/15/2015   8:08:00      0      0      0      0              0.00\n",
      "9      5/15/2015   8:09:00      0      0      0      0              0.00\n",
      "10     5/15/2015   8:10:00      0      0      0      0              0.00\n",
      "11     5/15/2015   8:11:00      0      0      0      0              0.00\n",
      "12     5/15/2015   8:12:00      0      0      0      0              0.00\n",
      "13     5/15/2015   8:13:00      0      0      0      0              0.00\n",
      "14     5/15/2015   8:14:00      0      0      0      0              0.00\n",
      "15     5/15/2015   8:15:00      0      0      0      0              0.00\n",
      "16     5/15/2015   8:16:00      0      0      0      0              0.00\n",
      "17     5/15/2015   8:17:00      0      0      0      0              0.00\n",
      "18     5/15/2015   8:18:00      0      0      0      0              0.00\n",
      "19     5/15/2015   8:19:00      0      0      0      0              0.00\n",
      "20     5/15/2015   8:20:00      0      0      0      0              0.00\n",
      "21     5/15/2015   8:21:00      0      0      0      0              0.00\n",
      "22     5/15/2015   8:22:00      0      0      0      0              0.00\n",
      "23     5/15/2015   8:23:00      0      0      0      0              0.00\n",
      "24     5/15/2015   8:24:00      0      0      0      0              0.00\n",
      "25     5/15/2015   8:25:00      0      0      0      0              0.00\n",
      "26     5/15/2015   8:26:00      0      0      0      0              0.00\n",
      "27     5/15/2015   8:27:00      0      0      0      0              0.00\n",
      "28     5/15/2015   8:28:00      0      0      0      0              0.00\n",
      "29     5/15/2015   8:29:00      0      0      0      0              0.00\n",
      "...          ...       ...    ...    ...    ...    ...               ...\n",
      "34953   6/8/2015  14:33:00      0      0      0      0              0.00\n",
      "34954   6/8/2015  14:34:00      0      0      0      0              0.00\n",
      "34955   6/8/2015  14:35:00      0      0      0      0              0.00\n",
      "34956   6/8/2015  14:36:00      0      0      0      0              0.00\n",
      "34957   6/8/2015  14:37:00      0      0      0      0              0.00\n",
      "34958   6/8/2015  14:38:00      0      0      0      0              0.00\n",
      "34959   6/8/2015  14:39:00      0      0      0      0              0.00\n",
      "34960   6/8/2015  14:40:00      0      0      0      0              0.00\n",
      "34961   6/8/2015  14:41:00      0      0      0      0              0.00\n",
      "34962   6/8/2015  14:42:00      0      0      0      0              0.00\n",
      "34963   6/8/2015  14:43:00      0      0      0      0              0.00\n",
      "34964   6/8/2015  14:44:00      0      0      0      0              0.00\n",
      "34965   6/8/2015  14:45:00      0      0      0      0              0.00\n",
      "34966   6/8/2015  14:46:00      0      0      0      0              0.00\n",
      "34967   6/8/2015  14:47:00      0      0      0      0              0.00\n",
      "34968   6/8/2015  14:48:00      0      0      0      0              0.00\n",
      "34969   6/8/2015  14:49:00      0      0      0      0              0.00\n",
      "34970   6/8/2015  14:50:00      0      0      0      0              0.00\n",
      "34971   6/8/2015  14:51:00      0      0      0      0              0.00\n",
      "34972   6/8/2015  14:52:00      0      0      0      0              0.00\n",
      "34973   6/8/2015  14:53:00      0      0      0      0              0.00\n",
      "34974   6/8/2015  14:54:00      0      0      0      0              0.00\n",
      "34975   6/8/2015  14:55:00      0      0      0      0              0.00\n",
      "34976   6/8/2015  14:56:00     36      0     11      1             37.64\n",
      "34977   6/8/2015  14:57:00      0      0      0      0              0.00\n",
      "34978   6/8/2015  14:58:00      0      0      0      0              0.00\n",
      "34979   6/8/2015  14:59:00      0      0      0      0              0.00\n",
      "34980   6/8/2015  15:00:00      0     22      5      0             22.56\n",
      "34981   6/8/2015  15:01:00      0      0      0      0              0.00\n",
      "34982   6/8/2015  15:02:00      0      0      0      0              0.00\n",
      "\n",
      "[34983 rows x 7 columns]\n"
     ]
    }
   ],
   "source": [
    "accel = pandas.read_csv('/Users/megan/Desktop/Py project/Accel CSV data/User701_ActigraphMay.csv', skipinitialspace=True)\n",
    "print(accel)"
   ]
  },
  {
   "cell_type": "code",
   "execution_count": 112,
   "metadata": {
    "collapsed": false
   },
   "outputs": [],
   "source": [
    "# Limiting dates to the days of the study\n",
    "date1 = np.array(accel.Date > \"5/16/2015\")\n",
    "date2 = np.array(accel.Date < \"5/25/2015\")\n",
    "wear_dates = np.logical_and(date1, date2)\n",
    "\n",
    "accel = accel[wear_dates]"
   ]
  },
  {
   "cell_type": "code",
   "execution_count": 113,
   "metadata": {
    "collapsed": false
   },
   "outputs": [],
   "source": [
    "# Grouping by study day and finding out total steps per day\n",
    "by_date = accel.groupby(\"Date\")\n",
    "daily_steps = by_date['Steps'].sum()"
   ]
  },
  {
   "cell_type": "code",
   "execution_count": 117,
   "metadata": {
    "collapsed": false
   },
   "outputs": [
    {
     "data": {
      "text/plain": [
       "Date\n",
       "5/17/2015    20\n",
       "5/18/2015    66\n",
       "5/19/2015    41\n",
       "5/20/2015    56\n",
       "5/21/2015    51\n",
       "5/22/2015    75\n",
       "5/23/2015    52\n",
       "5/24/2015    60\n",
       "Name: Axis1, dtype: int64"
      ]
     },
     "execution_count": 117,
     "metadata": {},
     "output_type": "execute_result"
    }
   ],
   "source": [
    "# Defining minutes of moderate and vigorous physical activity\n",
    "mvpa = np.array(accel.Axis1 > 1951)\n",
    "\n",
    "# Creating a dataframe with only minutes of mvpa included\n",
    "accel_mvpa = accel[mvpa]\n",
    "\n",
    "# Getting total minutes of MVPA for each day\n",
    "by_date_mvpa = accel_mvpa.groupby(\"Date\")\n",
    "daily_mvpa = by_date_mvpa['Axis1'].count()\n",
    "daily_mvpa"
   ]
  },
  {
   "cell_type": "code",
   "execution_count": 128,
   "metadata": {
    "collapsed": false
   },
   "outputs": [],
   "source": [
    "daily_701 = pd.DataFrame({'User': 701, 'Steps': daily_steps, 'MVPA' : daily_mvpa}).reset_index()"
   ]
  },
  {
   "cell_type": "code",
   "execution_count": 129,
   "metadata": {
    "collapsed": false
   },
   "outputs": [
    {
     "data": {
      "text/html": [
       "<div>\n",
       "<table border=\"1\" class=\"dataframe\">\n",
       "  <thead>\n",
       "    <tr style=\"text-align: right;\">\n",
       "      <th></th>\n",
       "      <th>Date</th>\n",
       "      <th>MVPA</th>\n",
       "      <th>Steps</th>\n",
       "      <th>User</th>\n",
       "    </tr>\n",
       "  </thead>\n",
       "  <tbody>\n",
       "    <tr>\n",
       "      <th>0</th>\n",
       "      <td>5/17/2015</td>\n",
       "      <td>20</td>\n",
       "      <td>5851</td>\n",
       "      <td>701</td>\n",
       "    </tr>\n",
       "    <tr>\n",
       "      <th>1</th>\n",
       "      <td>5/18/2015</td>\n",
       "      <td>66</td>\n",
       "      <td>9656</td>\n",
       "      <td>701</td>\n",
       "    </tr>\n",
       "    <tr>\n",
       "      <th>2</th>\n",
       "      <td>5/19/2015</td>\n",
       "      <td>41</td>\n",
       "      <td>6649</td>\n",
       "      <td>701</td>\n",
       "    </tr>\n",
       "    <tr>\n",
       "      <th>3</th>\n",
       "      <td>5/20/2015</td>\n",
       "      <td>56</td>\n",
       "      <td>7936</td>\n",
       "      <td>701</td>\n",
       "    </tr>\n",
       "    <tr>\n",
       "      <th>4</th>\n",
       "      <td>5/21/2015</td>\n",
       "      <td>51</td>\n",
       "      <td>8030</td>\n",
       "      <td>701</td>\n",
       "    </tr>\n",
       "    <tr>\n",
       "      <th>5</th>\n",
       "      <td>5/22/2015</td>\n",
       "      <td>75</td>\n",
       "      <td>11172</td>\n",
       "      <td>701</td>\n",
       "    </tr>\n",
       "    <tr>\n",
       "      <th>6</th>\n",
       "      <td>5/23/2015</td>\n",
       "      <td>52</td>\n",
       "      <td>8046</td>\n",
       "      <td>701</td>\n",
       "    </tr>\n",
       "    <tr>\n",
       "      <th>7</th>\n",
       "      <td>5/24/2015</td>\n",
       "      <td>60</td>\n",
       "      <td>8624</td>\n",
       "      <td>701</td>\n",
       "    </tr>\n",
       "  </tbody>\n",
       "</table>\n",
       "</div>"
      ],
      "text/plain": [
       "        Date  MVPA  Steps  User\n",
       "0  5/17/2015    20   5851   701\n",
       "1  5/18/2015    66   9656   701\n",
       "2  5/19/2015    41   6649   701\n",
       "3  5/20/2015    56   7936   701\n",
       "4  5/21/2015    51   8030   701\n",
       "5  5/22/2015    75  11172   701\n",
       "6  5/23/2015    52   8046   701\n",
       "7  5/24/2015    60   8624   701"
      ]
     },
     "execution_count": 129,
     "metadata": {},
     "output_type": "execute_result"
    }
   ],
   "source": [
    "daily_701"
   ]
  },
  {
   "cell_type": "code",
   "execution_count": null,
   "metadata": {
    "collapsed": true
   },
   "outputs": [],
   "source": []
  }
 ],
 "metadata": {
  "kernelspec": {
   "display_name": "Python 3",
   "language": "python",
   "name": "python3"
  },
  "language_info": {
   "codemirror_mode": {
    "name": "ipython",
    "version": 3
   },
   "file_extension": ".py",
   "mimetype": "text/x-python",
   "name": "python",
   "nbconvert_exporter": "python",
   "pygments_lexer": "ipython3",
   "version": "3.4.3"
  }
 },
 "nbformat": 4,
 "nbformat_minor": 0
}

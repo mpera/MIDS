{
 "cells": [
  {
   "cell_type": "markdown",
   "metadata": {},
   "source": [
    "### Python documentation for the MIDS program\n",
    "####Due November 20 2015 to Courtney"
   ]
  },
  {
   "cell_type": "markdown",
   "metadata": {},
   "source": [
    "What I want to do:\n",
    "- Import all data from actigraphs, azumio and fitbit\n",
    "- Make graphs to compare all for each user\n",
    "- With all data individually:\n",
    "    Average steps over a 7 day period\n",
    "- With actigraph data, get MVPA"
   ]
  },
  {
   "cell_type": "code",
   "execution_count": 167,
   "metadata": {
    "collapsed": true
   },
   "outputs": [],
   "source": [
    "import pandas as pd\n",
    "import numpy as np\n",
    "import os.path\n",
    "import glob"
   ]
  },
  {
   "cell_type": "code",
   "execution_count": 209,
   "metadata": {
    "collapsed": false
   },
   "outputs": [
    {
     "data": {
      "text/html": [
       "<div>\n",
       "<table border=\"1\" class=\"dataframe\">\n",
       "  <thead>\n",
       "    <tr style=\"text-align: right;\">\n",
       "      <th></th>\n",
       "      <th>Initial</th>\n",
       "      <th>Final</th>\n",
       "    </tr>\n",
       "  </thead>\n",
       "  <tbody>\n",
       "    <tr>\n",
       "      <th>701</th>\n",
       "      <td>5/17/15</td>\n",
       "      <td>5/25/15</td>\n",
       "    </tr>\n",
       "    <tr>\n",
       "      <th>2130</th>\n",
       "      <td>5/19/15</td>\n",
       "      <td>5/27/15</td>\n",
       "    </tr>\n",
       "    <tr>\n",
       "      <th>6332</th>\n",
       "      <td>5/18/15</td>\n",
       "      <td>5/26/15</td>\n",
       "    </tr>\n",
       "    <tr>\n",
       "      <th>7373</th>\n",
       "      <td>5/20/15</td>\n",
       "      <td>5/28/15</td>\n",
       "    </tr>\n",
       "    <tr>\n",
       "      <th>7685</th>\n",
       "      <td>6/1/15</td>\n",
       "      <td>6/9/15</td>\n",
       "    </tr>\n",
       "    <tr>\n",
       "      <th>9412</th>\n",
       "      <td>5/18/15</td>\n",
       "      <td>5/26/15</td>\n",
       "    </tr>\n",
       "    <tr>\n",
       "      <th>10311</th>\n",
       "      <td>5/15/15</td>\n",
       "      <td>5/23/15</td>\n",
       "    </tr>\n",
       "    <tr>\n",
       "      <th>10467</th>\n",
       "      <td>5/17/15</td>\n",
       "      <td>5/25/15</td>\n",
       "    </tr>\n",
       "    <tr>\n",
       "      <th>10601</th>\n",
       "      <td>5/18/15</td>\n",
       "      <td>5/26/15</td>\n",
       "    </tr>\n",
       "    <tr>\n",
       "      <th>10900</th>\n",
       "      <td>5/18/15</td>\n",
       "      <td>5/26/15</td>\n",
       "    </tr>\n",
       "    <tr>\n",
       "      <th>10921</th>\n",
       "      <td>5/17/15</td>\n",
       "      <td>5/25/15</td>\n",
       "    </tr>\n",
       "    <tr>\n",
       "      <th>10950</th>\n",
       "      <td>5/16/15</td>\n",
       "      <td>5/24/15</td>\n",
       "    </tr>\n",
       "    <tr>\n",
       "      <th>13466</th>\n",
       "      <td>5/23/15</td>\n",
       "      <td>5/31/15</td>\n",
       "    </tr>\n",
       "    <tr>\n",
       "      <th>13616</th>\n",
       "      <td>5/19/15</td>\n",
       "      <td>5/27/15</td>\n",
       "    </tr>\n",
       "    <tr>\n",
       "      <th>13716</th>\n",
       "      <td>5/18/15</td>\n",
       "      <td>5/26/15</td>\n",
       "    </tr>\n",
       "    <tr>\n",
       "      <th>14522</th>\n",
       "      <td>6/1/15</td>\n",
       "      <td>6/8/15</td>\n",
       "    </tr>\n",
       "    <tr>\n",
       "      <th>16168</th>\n",
       "      <td>5/19/15</td>\n",
       "      <td>5/27/15</td>\n",
       "    </tr>\n",
       "    <tr>\n",
       "      <th>16242</th>\n",
       "      <td>5/18/15</td>\n",
       "      <td>5/26/15</td>\n",
       "    </tr>\n",
       "    <tr>\n",
       "      <th>17418</th>\n",
       "      <td>5/21/15</td>\n",
       "      <td>5/29/15</td>\n",
       "    </tr>\n",
       "    <tr>\n",
       "      <th>17634</th>\n",
       "      <td>5/19/15</td>\n",
       "      <td>5/27/15</td>\n",
       "    </tr>\n",
       "    <tr>\n",
       "      <th>18484</th>\n",
       "      <td>5/22/15</td>\n",
       "      <td>5/30/15</td>\n",
       "    </tr>\n",
       "    <tr>\n",
       "      <th>18786</th>\n",
       "      <td>5/25/15</td>\n",
       "      <td>6/2/15</td>\n",
       "    </tr>\n",
       "    <tr>\n",
       "      <th>21019</th>\n",
       "      <td>5/17/15</td>\n",
       "      <td>5/25/15</td>\n",
       "    </tr>\n",
       "    <tr>\n",
       "      <th>21282</th>\n",
       "      <td>5/19/15</td>\n",
       "      <td>5/27/15</td>\n",
       "    </tr>\n",
       "    <tr>\n",
       "      <th>22253</th>\n",
       "      <td>5/14/15</td>\n",
       "      <td>5/22/15</td>\n",
       "    </tr>\n",
       "    <tr>\n",
       "      <th>23650</th>\n",
       "      <td>5/19/15</td>\n",
       "      <td>5/27/15</td>\n",
       "    </tr>\n",
       "    <tr>\n",
       "      <th>24584</th>\n",
       "      <td>5/22/15</td>\n",
       "      <td>5/30/15</td>\n",
       "    </tr>\n",
       "    <tr>\n",
       "      <th>24695</th>\n",
       "      <td>5/21/15</td>\n",
       "      <td>5/29/15</td>\n",
       "    </tr>\n",
       "  </tbody>\n",
       "</table>\n",
       "</div>"
      ],
      "text/plain": [
       "       Initial    Final\n",
       "701    5/17/15  5/25/15\n",
       "2130   5/19/15  5/27/15\n",
       "6332   5/18/15  5/26/15\n",
       "7373   5/20/15  5/28/15\n",
       "7685    6/1/15   6/9/15\n",
       "9412   5/18/15  5/26/15\n",
       "10311  5/15/15  5/23/15\n",
       "10467  5/17/15  5/25/15\n",
       "10601  5/18/15  5/26/15\n",
       "10900  5/18/15  5/26/15\n",
       "10921  5/17/15  5/25/15\n",
       "10950  5/16/15  5/24/15\n",
       "13466  5/23/15  5/31/15\n",
       "13616  5/19/15  5/27/15\n",
       "13716  5/18/15  5/26/15\n",
       "14522   6/1/15   6/8/15\n",
       "16168  5/19/15  5/27/15\n",
       "16242  5/18/15  5/26/15\n",
       "17418  5/21/15  5/29/15\n",
       "17634  5/19/15  5/27/15\n",
       "18484  5/22/15  5/30/15\n",
       "18786  5/25/15   6/2/15\n",
       "21019  5/17/15  5/25/15\n",
       "21282  5/19/15  5/27/15\n",
       "22253  5/14/15  5/22/15\n",
       "23650  5/19/15  5/27/15\n",
       "24584  5/22/15  5/30/15\n",
       "24695  5/21/15  5/29/15"
      ]
     },
     "execution_count": 209,
     "metadata": {},
     "output_type": "execute_result"
    }
   ],
   "source": [
    "# Creating a list of all accelerometer .csv files\n",
    "accel_file = glob.glob(\"/Users/megan/Desktop/MIDS project/Accel CSV data/User*_ActigraphMay.csv\")\n",
    "\n",
    "# Creating a dataframe that stores user and date range information, setting user id as the index\n",
    "dates = pandas.read_csv('/Users/megan/Desktop/MIDS project/Dates.csv', index_col=0)\n",
    "dates"
   ]
  },
  {
   "cell_type": "code",
   "execution_count": 211,
   "metadata": {
    "collapsed": false
   },
   "outputs": [],
   "source": [
    "for file in accel_file:\n",
    "    # Reading the accelerometer file and storing it as a dataframe\n",
    "    accel = pandas.read_csv(file, skipinitialspace=True)\n",
    "    \n",
    "    # Storing the user ID from the file name\n",
    "    user_id = int(os.path.basename(file).split(\"_\")[0].replace('User',''))\n",
    "    \n",
    "    # Limiting dates to the days of the study\n",
    "    date_range = dates.loc[user_id]\n",
    "    date_bool1 = np.array(accel.Date > date_range.Initial)\n",
    "    date_bool2 = np.array(accel.Date < date_range.Final)\n",
    "    wear_dates = np.logical_and(date_bool1, date_bool2)\n",
    "    accel = accel[wear_dates]\n",
    "\n",
    "    \n"
   ]
  },
  {
   "cell_type": "code",
   "execution_count": 134,
   "metadata": {
    "collapsed": false
   },
   "outputs": [],
   "source": [
    "# Grouping by study day and finding out total steps per day\n",
    "by_date = accel.groupby(\"Date\")\n",
    "daily_steps = by_date['Steps'].sum()"
   ]
  },
  {
   "cell_type": "code",
   "execution_count": 135,
   "metadata": {
    "collapsed": false
   },
   "outputs": [],
   "source": [
    "# Defining minutes of moderate and vigorous physical activity\n",
    "mvpa = np.array(accel.Axis1 > 1951)\n",
    "\n",
    "# Creating a dataframe with only minutes of mvpa included\n",
    "accel_mvpa = accel[mvpa]\n",
    "\n",
    "# Getting total minutes of MVPA for each day\n",
    "by_date_mvpa = accel_mvpa.groupby(\"Date\")\n",
    "daily_mvpa = by_date_mvpa['Axis1'].count()\n"
   ]
  },
  {
   "cell_type": "code",
   "execution_count": 136,
   "metadata": {
    "collapsed": false
   },
   "outputs": [],
   "source": [
    "# Creating a dataframe that includes daily steps and daily minutes of MVPA for this user\n",
    "daily_701 = pd.DataFrame({'User': 701, 'Steps': daily_steps, 'MVPA' : daily_mvpa}).reset_index()"
   ]
  },
  {
   "cell_type": "code",
   "execution_count": null,
   "metadata": {
    "collapsed": true
   },
   "outputs": [],
   "source": []
  }
 ],
 "metadata": {
  "kernelspec": {
   "display_name": "Python 3",
   "language": "python",
   "name": "python3"
  },
  "language_info": {
   "codemirror_mode": {
    "name": "ipython",
    "version": 3
   },
   "file_extension": ".py",
   "mimetype": "text/x-python",
   "name": "python",
   "nbconvert_exporter": "python",
   "pygments_lexer": "ipython3",
   "version": "3.4.3"
  }
 },
 "nbformat": 4,
 "nbformat_minor": 0
}
